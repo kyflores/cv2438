{
 "cells": [
  {
   "cell_type": "markdown",
   "id": "085fd083-84e3-4a9e-b816-23c7a4a920f7",
   "metadata": {},
   "source": [
    "# API Basics\n",
    "We'll be using numpy and opencv pretty heavily, so this first notebook will be aimed at getting familiar with some common use cases. We're assuming you know some python or at least the basics of another programming language, so there's no review of fundamental concepts. We'll link documentation; get used to reading these even if they're pretty dense.\n",
    "\n",
    "Jupyter notebooks can edited and run as you please, so you're encouraged to work right on top of this notebook and its code examples.\n",
    "\n",
    "Here is an excellent free e-book to help you learn python if you think you'd find that useful: https://greenteapress.com/wp/think-python/"
   ]
  },
  {
   "cell_type": "markdown",
   "id": "dd288509-b578-4ec5-8a85-05989c2b43ad",
   "metadata": {},
   "source": [
    "# Environment\n",
    "First, here are some commands to set up your python environment, assuming you're using anaconda.\n",
    "```\n",
    "conda create --name cv python=3.9 pip\n",
    "conda activate cv\n",
    "\n",
    "# Install the CPU only version for compatibility reasons.\n",
    "pip3 install torch torchvision torchaudio --extra-index-url https://download.pytorch.org/whl/cpu\n",
    "pip3 install opencv-python matplotlib numpy scipy jupyterlab\n",
    "```\n",
    "\n",
    "Side note: the environment is set up w/ pip instead of conda packages due to conflicts between the opencv-python package and torchvision. This isn't the \"right\" way to use conda."
   ]
  },
  {
   "cell_type": "markdown",
   "id": "5d341daa-06bf-4659-a864-28099203c01d",
   "metadata": {
    "tags": []
   },
   "source": [
    "# Creating arrays\n",
    "The fundamental datatype in numpy is the array. It's a linear sequence of stuff, usually numbers. Most operations in numpy operate on arrays. Here are some examples for creating arrays. You can find numerous others here: https://numpy.org/doc/stable/reference/routines.array-creation.html"
   ]
  },
  {
   "cell_type": "code",
   "execution_count": 1,
   "id": "e93dce63-ed6a-4175-9c93-4fb9a4218aac",
   "metadata": {},
   "outputs": [],
   "source": [
    "# You'll see many sources import numpy like this to shorten it.\n",
    "# It lets you do np.zeros(5) instead of numpy.zeros(5) for instance.\n",
    "import numpy as np"
   ]
  },
  {
   "cell_type": "code",
   "execution_count": 2,
   "id": "e84a7cde-6494-40b5-91f4-9723d9e95f11",
   "metadata": {},
   "outputs": [
    {
     "name": "stdout",
     "output_type": "stream",
     "text": [
      "From list:  [1 2 3 4 5]\n",
      "All zero:  [0. 0. 0.]\n",
      "All zero 2D: \n",
      " [[0. 0. 0. 0. 0. 0. 0.]\n",
      " [0. 0. 0. 0. 0. 0. 0.]]\n",
      "(2, 7)\n",
      "Linspace:  [ 0.          1.66666667  3.33333333  5.          6.66666667  8.33333333\n",
      " 10.         11.66666667 13.33333333 15.        ]\n"
     ]
    }
   ],
   "source": [
    "# From a list\n",
    "listarray = np.array([1,2,3,4,5])\n",
    "print(\"From list: \", listarray)\n",
    "\n",
    "all_zeros = np.zeros(3)\n",
    "print(\"All zero: \", all_zeros)\n",
    "\n",
    "all_zero_2d = np.zeros([2,7])\n",
    "print(\"All zero 2D: \\n\", all_zero_2d)\n",
    "\n",
    "# By the way, this is how to see the dimensions of an array\n",
    "print(all_zero_2d.shape)\n",
    "\n",
    "# Sequence of numbers between two values with a fixed number of equally spaced elements\n",
    "seq = np.linspace(0, 15, 10)\n",
    "print(\"Linspace: \", seq)"
   ]
  },
  {
   "cell_type": "markdown",
   "id": "9c70d1a9-0c26-4aad-9c39-5e445bf2e17c",
   "metadata": {},
   "source": [
    "# Accessing arrays\n",
    "Next, let's look at how to read the values in an array, starting with 1D arrays. The simplest case is for an individual element."
   ]
  },
  {
   "cell_type": "code",
   "execution_count": 3,
   "id": "c20f97c5-159f-4dbc-970d-ade720b3378f",
   "metadata": {},
   "outputs": [
    {
     "name": "stdout",
     "output_type": "stream",
     "text": [
      "2\n"
     ]
    }
   ],
   "source": [
    "# Friendly reminder that computers start indicies at 0, meaning the first element of an array is at index 0.\n",
    "print(listarray[1])"
   ]
  },
  {
   "cell_type": "markdown",
   "id": "57beb712-f3b0-411f-8972-b012b3358140",
   "metadata": {},
   "source": [
    "Things get much more interesting with slices. Slices create \"views\" into an array that let you select some subset of the array efficiently. The syntax for a slice is `array[start:stop:step]`. Let's look at some examples again."
   ]
  },
  {
   "cell_type": "code",
   "execution_count": 4,
   "id": "c72dcb3a-c1a6-47fa-b446-2429d697189b",
   "metadata": {},
   "outputs": [
    {
     "name": "stdout",
     "output_type": "stream",
     "text": [
      "[0 1 2 3 4 5 6 7]\n"
     ]
    }
   ],
   "source": [
    "ex = np.arange(8)\n",
    "print(ex)"
   ]
  },
  {
   "cell_type": "code",
   "execution_count": 5,
   "id": "4f1b43fc-401b-4a82-a6b2-059ed2462ebe",
   "metadata": {},
   "outputs": [
    {
     "name": "stdout",
     "output_type": "stream",
     "text": [
      "[0 1 2]\n",
      "[0 2 4]\n",
      "[0 1 2]\n",
      "[1 2 3 4 5 6 7]\n",
      "7\n",
      "[7 6 5 4 3 2 1 0]\n"
     ]
    }
   ],
   "source": [
    "print(ex[0:3]) # Elements between index 0 and 3, inclusive on the lower end. If step is omitted it's 1.\n",
    "print(ex[0:5:2]) # Every other element between index 0 and 5.\n",
    "print(ex[:3]) # If you omit start, it's the beginning of the array.\n",
    "print(ex[1:]) # If you omit stop, it's the end of the array\n",
    "print(ex[-1]) # Negative index is allowed and wraps around to the end\n",
    "print(ex[::-1]) # Negative steps are also allowed and step through the array in reverse"
   ]
  },
  {
   "cell_type": "markdown",
   "id": "8ceb0e3a-7fbf-46ec-8169-34a71998c568",
   "metadata": {},
   "source": [
    "Since we'll be working with images later, let's also look at how to slice arrays with more than one dimension.\n",
    "\n",
    "Again, here's the primary documentation: https://numpy.org/doc/stable/user/basics.indexing.html#basics-indexing"
   ]
  },
  {
   "cell_type": "code",
   "execution_count": 6,
   "id": "0ef7697d-649c-4339-a2ef-32685702d09d",
   "metadata": {},
   "outputs": [
    {
     "name": "stdout",
     "output_type": "stream",
     "text": [
      "[[ 0  1  2  3  4  5  6  7]\n",
      " [ 8  9 10 11 12 13 14 15]\n",
      " [16 17 18 19 20 21 22 23]\n",
      " [24 25 26 27 28 29 30 31]]\n"
     ]
    }
   ],
   "source": [
    "# This creates a new array of 32 elements, then forces them into a 4x8 shape instead of a 32x1\n",
    "ex2d = np.arange(0, 32).reshape((4,8))\n",
    "print(ex2d)"
   ]
  },
  {
   "cell_type": "code",
   "execution_count": 7,
   "id": "ace00c17-82eb-4f55-bc2f-f461a222f2f3",
   "metadata": {},
   "outputs": [
    {
     "name": "stdout",
     "output_type": "stream",
     "text": [
      "28\n",
      "[[ 0  4]\n",
      " [16 20]]\n",
      "[[0 1]\n",
      " [8 9]]\n",
      "[[22 23]\n",
      " [30 31]]\n",
      "[[ 6  7]\n",
      " [14 15]]\n",
      "[ 0  8 16 24]\n"
     ]
    }
   ],
   "source": [
    "print(ex2d[3, 4]) # Single element access. Again, indexing starts at 0 so index 3 is the fourth element...\n",
    "print(ex2d[::2,::4]) # Every other element vertically, then every 4th element horizontally\n",
    "print(ex2d[:2, :2]) # The top left 2x2 box\n",
    "print(ex2d[-2:, -2:]) # The bottom right 2x2 box\n",
    "\n",
    "width = ex2d.shape[1]\n",
    "height = ex2d.shape[0]\n",
    "print(ex2d[0:2, width-2:width]) # Upper right box\n",
    "\n",
    "# Finally, note that just \":\" means \"everything in this dimension\".\n",
    "print(ex2d[:,0]) # The whole vertical in column 0."
   ]
  },
  {
   "cell_type": "markdown",
   "id": "3f4b1fa7-9b59-4a56-af19-783f5e0aa870",
   "metadata": {},
   "source": [
    "This syntax generalizes to higher dimensions than 2. Please note the index orders: in these 2D examples the first index selects the row, and the second index selects the column which is opposite of the (x,y) order we tend to think in."
   ]
  },
  {
   "cell_type": "code",
   "execution_count": 8,
   "id": "0cc7c96a-5ccb-48fb-88b5-d1d31f7f5931",
   "metadata": {},
   "outputs": [],
   "source": [
    "# Try finding the lower left box, or the right 4x4 half of the array on your own in this cell"
   ]
  },
  {
   "cell_type": "markdown",
   "id": "5c98e54a-b668-43bf-a56a-a22dc60abb31",
   "metadata": {},
   "source": [
    "# Array Math\n",
    "Numpy provides many arithmetic operations that simply do \"the right thing\" on arrays. You can easily add a constant to an array, or an array to an array as naturally as adding regular numbers in python. Additionally, most numpy functions can be chained together as long as the dimensions of the arrays they're operating on match"
   ]
  },
  {
   "cell_type": "code",
   "execution_count": 9,
   "id": "c280dd39-2439-4f8d-b12d-fc71ea805f5a",
   "metadata": {},
   "outputs": [
    {
     "name": "stdout",
     "output_type": "stream",
     "text": [
      "[1. 1. 1. 1. 1.]\n",
      "[ 5  7  9 11 13]\n",
      "[1 2 3 4]\n",
      "11\n",
      "100\n"
     ]
    }
   ],
   "source": [
    "print(1 + np.zeros(5))\n",
    "print(np.arange(5) + np.arange(5, 10)) # 0,1,2,3,4 + 5,6,7,8,9\n",
    "print(np.abs([-1,-2,3,4])) # Absolute value\n",
    "print(np.sum([1,3,7]))\n",
    "print(np.max(np.abs([0, -100, 10, 4])))\n",
    "# print(np.arange(2) + np.arange(3)) # Doesn't work, arrays aren't the same shape"
   ]
  },
  {
   "cell_type": "markdown",
   "id": "2a79e1c8-55b0-445a-828a-862832119047",
   "metadata": {},
   "source": [
    "Let's put a few things together and plot it. By the way, numpy + matplotlib can easily replace your graphing calculator and then some, so bin that TI-84 and learn python."
   ]
  },
  {
   "cell_type": "code",
   "execution_count": 10,
   "id": "6a2ec57f-90b0-4b9a-9bd4-566377815493",
   "metadata": {},
   "outputs": [
    {
     "data": {
      "text/plain": [
       "[<matplotlib.lines.Line2D at 0x7f440da84a60>]"
      ]
     },
     "execution_count": 10,
     "metadata": {},
     "output_type": "execute_result"
    },
    {
     "data": {
      "image/png": "[encoded data removed]",
      "text/plain": [
       "<Figure size 640x480 with 1 Axes>"
      ]
     },
     "metadata": {},
     "output_type": "display_data"
    }
   ],
   "source": [
    "import matplotlib.pyplot as plt\n",
    "\n",
    "xs = np.linspace(5, 50, 100) # 100 datapoints between 5 and 50\n",
    "ys0 = np.sin(xs)**2 + 0.1*xs + 1 # y = sin(x)^2 + x/10 + 1\n",
    "\n",
    "ys1 = np.cos(0.5*xs)**2 + -0.075*xs + 5\n",
    "plt.plot(xs, ys0)\n",
    "plt.plot(xs, ys1)"
   ]
  },
  {
   "cell_type": "markdown",
   "id": "b1cd1099-cf67-4c93-89a9-cace79263b08",
   "metadata": {},
   "source": [
    "# Starting out with OpenCV\n",
    "Now let's load an image and use OpenCV a bit. This won't be of much use yet, but here's a link to the OpenCV docs: https://docs.opencv.org/4.x/index.html. These are pretty confusing to read because they are actually for the C++ version of OpenCV. There's no native python documentation, so typically we need to translate the C++ docs. In fact, OpenCV itself is not written directly in python: rather it is a native library that Python interfaces to."
   ]
  },
  {
   "cell_type": "code",
   "execution_count": 11,
   "id": "8966c724-9294-4bf7-bc64-8feefc633155",
   "metadata": {},
   "outputs": [
    {
     "name": "stderr",
     "output_type": "stream",
     "text": [
      "[ WARN:0@0.004] global /io/opencv/modules/imgcodecs/src/loadsave.cpp (239) findDecoder imread_('0_grip_pipeline/powerup.jpg'): can't open/read file: check file path/integrity\n"
     ]
    },
    {
     "ename": "error",
     "evalue": "OpenCV(4.6.0) /io/opencv/modules/imgproc/src/color.cpp:182: error: (-215:Assertion failed) !_src.empty() in function 'cvtColor'\n",
     "output_type": "error",
     "traceback": [
      "\u001b[0;31m---------------------------------------------------------------------------\u001b[0m",
      "\u001b[0;31merror\u001b[0m                                     Traceback (most recent call last)",
      "Input \u001b[0;32mIn [11]\u001b[0m, in \u001b[0;36m<cell line: 4>\u001b[0;34m()\u001b[0m\n\u001b[1;32m      1\u001b[0m \u001b[38;5;28;01mimport\u001b[39;00m \u001b[38;5;21;01mcv2\u001b[39;00m \u001b[38;5;66;03m# OpenCV is called cv2 for historical reasons\u001b[39;00m\n\u001b[1;32m      3\u001b[0m img \u001b[38;5;241m=\u001b[39m cv2\u001b[38;5;241m.\u001b[39mimread(\u001b[38;5;124m'\u001b[39m\u001b[38;5;124m0_grip_pipeline/powerup.jpg\u001b[39m\u001b[38;5;124m'\u001b[39m)\n\u001b[0;32m----> 4\u001b[0m img \u001b[38;5;241m=\u001b[39m \u001b[43mcv2\u001b[49m\u001b[38;5;241;43m.\u001b[39;49m\u001b[43mcvtColor\u001b[49m\u001b[43m(\u001b[49m\u001b[43mimg\u001b[49m\u001b[43m,\u001b[49m\u001b[43m \u001b[49m\u001b[43mcv2\u001b[49m\u001b[38;5;241;43m.\u001b[39;49m\u001b[43mCOLOR_BGR2GRAY\u001b[49m\u001b[43m)\u001b[49m \u001b[38;5;66;03m# Convert the image to grayscale\u001b[39;00m\n\u001b[1;32m      5\u001b[0m plt\u001b[38;5;241m.\u001b[39mimshow(img, cmap\u001b[38;5;241m=\u001b[39m\u001b[38;5;124m'\u001b[39m\u001b[38;5;124mgray\u001b[39m\u001b[38;5;124m'\u001b[39m)\n",
      "\u001b[0;31merror\u001b[0m: OpenCV(4.6.0) /io/opencv/modules/imgproc/src/color.cpp:182: error: (-215:Assertion failed) !_src.empty() in function 'cvtColor'\n"
     ]
    }
   ],
   "source": [
    "import cv2 # OpenCV is called cv2 for historical reasons\n",
    "\n",
    "img = cv2.imread('0_grip_pipeline/powerup.jpg')\n",
    "img = cv2.cvtColor(img, cv2.COLOR_BGR2GRAY) # Convert the image to grayscale\n",
    "plt.imshow(img, cmap='gray')"
   ]
  },
  {
   "cell_type": "markdown",
   "id": "c281316b-d520-4241-b372-aa35dc6344ae",
   "metadata": {},
   "source": [
    "By the way, OpenCV images are represented by numpy arrays, which is why we spent the top half of this notebook learning about numpy arrays"
   ]
  },
  {
   "cell_type": "code",
   "execution_count": null,
   "id": "64efce18-a4c9-4a1e-8c6f-0184a15d4fed",
   "metadata": {},
   "outputs": [],
   "source": [
    "print(type(img))"
   ]
  },
  {
   "cell_type": "markdown",
   "id": "9197c2a6-3b7a-45ea-8eeb-04026c94c883",
   "metadata": {},
   "source": [
    "Let's look at `cv2.threshold`. Refer to https://docs.opencv.org/4.x/d7/d4d/tutorial_py_thresholding.html for more info."
   ]
  },
  {
   "cell_type": "code",
   "execution_count": null,
   "id": "53c43557-8935-45ab-97e1-103de4278e8a",
   "metadata": {},
   "outputs": [],
   "source": [
    "help(cv2.threshold)"
   ]
  },
  {
   "cell_type": "code",
   "execution_count": null,
   "id": "ac9d9086-dd76-411c-8dd8-55f1999657cd",
   "metadata": {},
   "outputs": [],
   "source": [
    "# By the way, typically images are 8 bits per pixel, meaning the maximum value is 2**8 - 1.\n",
    "ret, out = cv2.threshold(img, 128, 255, cv2.THRESH_BINARY)\n",
    "plt.imshow(out, cmap='gray')"
   ]
  },
  {
   "cell_type": "markdown",
   "id": "a5c74d10-3598-4658-8912-75eb95c45c00",
   "metadata": {},
   "source": [
    "For other python specific tutorials see:\n",
    "https://docs.opencv.org/4.x/d6/d00/tutorial_py_root.html"
   ]
  },
  {
   "cell_type": "markdown",
   "id": "2ea949cc-fa43-490d-9822-d93a9528d887",
   "metadata": {},
   "source": [
    "# Homework\n",
    "Feel free to do any \"homework\" problems with others or using any resources + documentation found online, You're also welcome to post on the team Slack in `#computer-vision`.\n",
    "\n",
    "Using an image of your choice...\n",
    "1. Load the image as grayscale like above and determine the average pixel value of the image.\n",
    "2. Threshold the image such that all values below average found in (1) are black, and all above the average are white.\n",
    "3. Calculate the percentage of pixels in the image that are greater than the average.\n",
    "4. (bonus) Segment the image into 4 equally sized quadrants and print which quandrant has\n",
    "    * The greatest percentage of above-threshold pixels\n",
    "    * The greatest MEDIAN pixel value (np.median)\n",
    "    \n",
    "Try to design your solution so that later steps build on top of the earlier ones. While testing your program, you should verify your results against a smaller \"image\" you can create manually.\n",
    "For instance, if you make something like this..."
   ]
  },
  {
   "cell_type": "code",
   "execution_count": null,
   "id": "59b50cf9-a355-476f-aed0-811089a54286",
   "metadata": {},
   "outputs": [],
   "source": [
    "print(np.array(([0, 0],\n",
    "                [5, 5])))"
   ]
  },
  {
   "cell_type": "markdown",
   "id": "cb200049-c537-461f-bac9-45948deaa5a0",
   "metadata": {},
   "source": [
    "Then you can calculate the average and white/black pixels by hand."
   ]
  },
  {
   "cell_type": "code",
   "execution_count": null,
   "id": "7cd73ea5-99a8-4fcf-9cc2-b0d08a639b58",
   "metadata": {},
   "outputs": [],
   "source": [
    "# Here's the `for` loop syntax, if you're not familiar:\n",
    "arr = np.arange(9).reshape((3,3))\n",
    "for row in range(arr.shape[0]):\n",
    "    for col in range(arr.shape[1]):\n",
    "        print(arr[row, col])"
   ]
  },
  {
   "cell_type": "code",
   "execution_count": null,
   "id": "b9b7145a-38a7-4dc7-a3c6-3fccdfa5af57",
   "metadata": {},
   "outputs": [],
   "source": []
  }
 ],
 "metadata": {
  "kernelspec": {
   "display_name": "Python 3 (ipykernel)",
   "language": "python",
   "name": "python3"
  },
  "language_info": {
   "codemirror_mode": {
    "name": "ipython",
    "version": 3
   },
   "file_extension": ".py",
   "mimetype": "text/x-python",
   "name": "python",
   "nbconvert_exporter": "python",
   "pygments_lexer": "ipython3",
   "version": "3.9.12"
  }
 },
 "nbformat": 4,
 "nbformat_minor": 5
}
